{
 "cells": [
  {
   "cell_type": "markdown",
   "id": "e69e22df",
   "metadata": {},
   "source": [
    "## Main Objective:\n",
    "- making the quality of the image HIGHER\n",
    "\n",
    "### How??\n",
    " by editing a few things:\n",
    " * sharpning the `img`\n",
    " * detailing the `img` (using detail() method)\n",
    " * smoothing the `img` (using smooth() method)\n",
    " * editing the contrast of `img`\n",
    " * editing the brightness of `img`\n",
    " "
   ]
  },
  {
   "cell_type": "code",
   "execution_count": 4,
   "id": "70c1b86f",
   "metadata": {},
   "outputs": [],
   "source": [
    "import cv2\n",
    "import numpy as np\n",
    "from PIL import Image\n",
    "import easygui\n",
    "\n",
    "inputPath = easygui.fileopenbox(title = \"Select image file\")\n",
    "outputPath = easygui.filesavebox(title = \"Save file to\")\n",
    "\n",
    "# Load the image\n",
    "img = cv2.imread('../images/IMG-20240310-WA0033.jpg')\n",
    "\n",
    "# Convert the image to float32 data type\n",
    "img_float = np.float32(img)\n",
    "\n",
    "# Remove blur using Gaussian blurring\n",
    "img_blur = cv2.GaussianBlur(img_float, (5, 5), 0)\n",
    "\n",
    "# Subtract the blurred image from the original image to sharpen it\n",
    "img_sharp = img_float - img_blur\n",
    "\n",
    "# Clip the negative values to zero\n",
    "img_sharp = np.maximum(img_sharp, 0)\n",
    "\n",
    "# Convert the image back to uint8 data type\n",
    "img_sharp = np.uint8(img_sharp)\n",
    "\n",
    "# Adjust contrast and brightness\n",
    "alpha = 1.5 # contrast control (1.0-3.0)\n",
    "beta = 50 # brightness control (0-100)\n",
    "img_adjusted = cv2.convertScaleAbs(img_sharp, alpha=alpha, beta=beta)\n",
    "\n",
    "# Smooth the image using a bilateral filter\n",
    "img_smooth = cv2.bilateralFilter(img_adjusted, 9, 75, 75)\n",
    "\n",
    "# Convert the image back to RGB format\n",
    "img_enhanced = cv2.cvtColor(img_smooth, cv2.COLOR_BGR2RGB)\n",
    "\n",
    "# Save the enhanced image\n",
    "Image.fromarray(img_enhanced).save('uploads/output/enhanced_IMG-20240310-WA0033.jpg')\n"
   ]
  },
  {
   "cell_type": "code",
   "execution_count": 13,
   "id": "970dd3c0",
   "metadata": {},
   "outputs": [
    {
     "name": "stdout",
     "output_type": "stream",
     "text": [
      "<PIL.JpegImagePlugin.JpegImageFile image mode=RGB size=1200x1599 at 0x29819684950>\n",
      "0\n",
      "done\n"
     ]
    }
   ],
   "source": [
    "# making test samples:\n",
    "\n",
    "from PIL import Image, ImageFilter\n",
    "img = Image.open('../images/mahdi2.jpg')\n",
    "print(img)\n",
    "blurImg = img.filter(ImageFilter.BLUR)\n",
    "for i in range(1): # increase the num to increase the blur\n",
    "    x = blurImg\n",
    "    blurImg = x.filter(ImageFilter.BLUR)\n",
    "    print(i)\n",
    "\n",
    "blurImg.save('uploads/blurred_IMG-20240310-WA0033.jpg', 'png')\n",
    "print(\"done\")"
   ]
  },
  {
   "cell_type": "code",
   "execution_count": null,
   "id": "087ca871",
   "metadata": {},
   "outputs": [],
   "source": [
    "from PIL import Image, ImageFilter, ImageEnhance\n",
    "import easygui\n",
    "\n",
    "inputPath = easygui.fileopenbox(title = \"Select image file\")\n",
    "outputPath = easygui.filesavebox(title = \"Save file to\")\n",
    "\n",
    "# Load the image\n",
    "image = Image.open(inputPath)\n",
    "\n",
    "# Sharpen the image\n",
    "image = image.filter(ImageFilter.SHARPEN)\n",
    "\n",
    "# Detailing the image\n",
    "image = image.filter(ImageFilter.DETAIL)\n",
    "\n",
    "# Adjust contrast and brightness\n",
    "contrast_factor = 1.3  # Increase contrast by 30%\n",
    "brightness_factor = 1.5  # Increase brightness by 50%\n",
    "enhancer = ImageEnhance.Contrast(image)\n",
    "enhancer.enhance(contrast_factor)\n",
    "enhancer = ImageEnhance.Brightness(image)\n",
    "enhancer.enhance(brightness_factor)\n",
    "\n",
    "# Smooth the image\n",
    "image = image.filter(ImageFilter.SMOOTH)\n",
    "\n",
    "# Create an ImageEnhance object for the image\n",
    "enhancer = ImageEnhance.Color(image)\n",
    "\n",
    "# Adjust the saturation of the image \n",
    "image = enhancer.enhance(1.2) # Increase saturation by 20%\n",
    "\n",
    "# Save the enhanced image\n",
    "image.save(outputPath)"
   ]
  },
  {
   "cell_type": "code",
   "execution_count": null,
   "id": "21162910",
   "metadata": {},
   "outputs": [],
   "source": []
  }
 ],
 "metadata": {
  "kernelspec": {
   "display_name": "Python 3 (ipykernel)",
   "language": "python",
   "name": "python3"
  },
  "language_info": {
   "codemirror_mode": {
    "name": "ipython",
    "version": 3
   },
   "file_extension": ".py",
   "mimetype": "text/x-python",
   "name": "python",
   "nbconvert_exporter": "python",
   "pygments_lexer": "ipython3",
   "version": "3.11.8"
  }
 },
 "nbformat": 4,
 "nbformat_minor": 5
}
